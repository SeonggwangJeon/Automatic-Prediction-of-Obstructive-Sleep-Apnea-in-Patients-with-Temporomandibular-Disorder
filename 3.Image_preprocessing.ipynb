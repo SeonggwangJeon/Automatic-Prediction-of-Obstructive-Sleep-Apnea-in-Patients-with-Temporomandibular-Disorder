{
 "cells": [
  {
   "cell_type": "code",
   "execution_count": 2,
   "id": "b1536cbd",
   "metadata": {},
   "outputs": [],
   "source": [
    "import numpy as np\n",
    "import os\n",
    "import zipfile\n",
    "import pandas as pd\n",
    "import shutil"
   ]
  },
  {
   "cell_type": "code",
   "execution_count": 26,
   "id": "e8d7f420",
   "metadata": {},
   "outputs": [],
   "source": [
    "image_path = './Data/Images/'\n",
    "images  = os.listdir(image_path)"
   ]
  },
  {
   "cell_type": "code",
   "execution_count": 33,
   "id": "6c42982b",
   "metadata": {},
   "outputs": [
    {
     "name": "stdout",
     "output_type": "stream",
     "text": [
      "Index(['NO', 'OSA', 'sex', 'Age (avg.)', 'Narrowing of airway ', 'VAS ',\n",
      "       'Symptom duration (days) ', 'Bruxism', 'Headache', 'Stress', 'Tinnitus',\n",
      "       'Macrotrauma hx.', 'Height\\n(cm)', 'Weight\\n(cm)', 'BMI', 'REI', 'OAI',\n",
      "       'CAI', 'Minimum desaturation', 'O-C', 'I-S', 'DEP', 'ANX', 'HOS',\n",
      "       'PHOB', 'PAR', 'PSY', 'MRI narrowing'],\n",
      "      dtype='object')\n",
      "data.shape : (16, 27)\n"
     ]
    }
   ],
   "source": [
    "# sav 파일 경로 지정\n",
    "#file_path = './Data/231107_PSG.xlsx'\n",
    "file_path = './Data/231203_PSG.xlsx'\n",
    "\n",
    "# sav 파일 읽기\n",
    "df = pd.read_excel(file_path)\n",
    "df['sex'] = df['sex'].map({'F': 0, 'M': 1})\n",
    "df.rename(columns={'최저탈포화':'Minimum desaturation'},inplace = True)\n",
    "df.rename(columns={'BMI\\n':'BMI'},inplace = True)\n",
    "df.rename(columns={'PHOE':'PHOB'},inplace = True)\n",
    "df.rename(columns={'MRI narrowing ':'MRI narrowing'},inplace = True)\n",
    "df.dropna(inplace = True)\n",
    "# PRE 변수 제외\n",
    "columns = df.columns\n",
    "print(columns)\n",
    "df.head()\n",
    "\n",
    "data = df.values[:,1:]\n",
    "print(f'data.shape : {data.shape}')\n",
    "np.save('./Data/231110_data.npy', data)"
   ]
  },
  {
   "cell_type": "code",
   "execution_count": 30,
   "id": "0bf453ee",
   "metadata": {},
   "outputs": [
    {
     "name": "stdout",
     "output_type": "stream",
     "text": [
      "images in MRI_narrowing [ 1  2  5  7 15 17 18 19 20 22 23 24 25 28 39 50]\n"
     ]
    }
   ],
   "source": [
    "df_no = df['NO'].values\n",
    "print('images in MRI_narrowing', df_no)"
   ]
  },
  {
   "cell_type": "code",
   "execution_count": 32,
   "id": "c6c7a7a1",
   "metadata": {},
   "outputs": [
    {
     "name": "stdout",
     "output_type": "stream",
     "text": [
      "image in files [1, 15, 17, 18, 19, 2, 20, 22, 23, 24, 25, 28, 39, 5, 50, 7]\n"
     ]
    }
   ],
   "source": [
    "image_no = []\n",
    "for image in images:\n",
    "    if image[-3:] == 'png':\n",
    "        no = image.split('.png')[0]\n",
    "        image_no.append(int(no))\n",
    "print('image in files', image_no)"
   ]
  }
 ],
 "metadata": {
  "kernelspec": {
   "display_name": "JSG_image",
   "language": "python",
   "name": "jsg_image"
  },
  "language_info": {
   "codemirror_mode": {
    "name": "ipython",
    "version": 3
   },
   "file_extension": ".py",
   "mimetype": "text/x-python",
   "name": "python",
   "nbconvert_exporter": "python",
   "pygments_lexer": "ipython3",
   "version": "3.10.9"
  }
 },
 "nbformat": 4,
 "nbformat_minor": 5
}
